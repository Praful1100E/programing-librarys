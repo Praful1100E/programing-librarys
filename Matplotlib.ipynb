{
 "cells": [
  {
   "cell_type": "code",
   "execution_count": null,
   "id": "507f3037-8ded-44f5-8af8-5dc0643ea43b",
   "metadata": {},
   "outputs": [],
   "source": [
    "import matplotlib \n",
    "print(matplotlib.__version__)"
   ]
  },
  {
   "cell_type": "code",
   "execution_count": null,
   "id": "b7ba9ae4-416e-448c-80ee-e92e7b2e9885",
   "metadata": {},
   "outputs": [],
   "source": [
    "# import matplotlib as mt\n",
    "# mt.plot(\"Hello World\")"
   ]
  },
  {
   "cell_type": "code",
   "execution_count": null,
   "id": "5794e476-ffbe-479e-881b-51e58a41cb08",
   "metadata": {},
   "outputs": [],
   "source": [
    "import matplotlib.pyplot as baji\n",
    "import numpy as np\n",
    "import pandas as pd\n",
    "# __pyplot__ submodular\n",
    "# print(\"Hello\")\n",
    "ar=np.array([1,2,3,2,3,5,10])\n",
    "y=np.array([1,2,2,6,5,2,2])\n",
    "baji.plot(ar,y)"
   ]
  },
  {
   "cell_type": "code",
   "execution_count": null,
   "id": "7e36fca5-2f86-443b-b8fe-3ed1a764db37",
   "metadata": {},
   "outputs": [],
   "source": [
    "import matplotlib.pyplot as baji\n",
    "import numpy as np\n",
    "import pandas as pd\n",
    "# __pyplot__ submodular\n",
    "# print(\"Hello\")\n",
    "ar=np.array([\"a\",2,3,2,3,\"c\",10])\n",
    "y=np.array([\"b\",2,2,6,5,\"b\",2])\n",
    "baji.plot(ar,y)"
   ]
  },
  {
   "cell_type": "code",
   "execution_count": 3,
   "id": "8345710d-ee5b-4997-8108-d93141729b48",
   "metadata": {},
   "outputs": [
    {
     "data": {
      "text/plain": [
       "[<matplotlib.lines.Line2D at 0x1d7b13625f0>]"
      ]
     },
     "execution_count": 3,
     "metadata": {},
     "output_type": "execute_result"
    },
    {
     "data": {
      "image/png": "[encoded data removed]",
      "text/plain": [
       "<Figure size 640x480 with 1 Axes>"
      ]
     },
     "metadata": {},
     "output_type": "display_data"
    }
   ],
   "source": [
    "import matplotlib.pyplot as baji\n",
    "import numpy as np\n",
    "import pandas as pd\n",
    "# __pyplot__ submodular\n",
    "# print(\"Hello\")\n",
    "ar=np.array([\"v\",\"a\",\"c\"])\n",
    "y=np.array([\"l\",\"b\",\"d\"])\n",
    "baji.plot(ar,y)"
   ]
  },
  {
   "cell_type": "code",
   "execution_count": null,
   "id": "655cc4c2-3c05-493d-a1e2-1c63d5dceb36",
   "metadata": {},
   "outputs": [],
   "source": [
    "import matplotlib.pyplot as baji\n",
    "import numpy as np\n",
    "import pandas as pd\n",
    "# __pyplot__ submodular\n",
    "# print(\"Hello\")\n",
    "ar=np.array([1,2,3,1000])\n",
    "y=np.array([1,2,4,10])\n",
    "baji.plot(ar,y)"
   ]
  },
  {
   "cell_type": "code",
   "execution_count": null,
   "id": "c13ccf4d-b258-451a-abb7-b3385ba17c06",
   "metadata": {},
   "outputs": [],
   "source": []
  },
  {
   "cell_type": "code",
   "execution_count": null,
   "id": "2dfa0572-8b1e-4c24-aa64-b3adae0a498c",
   "metadata": {},
   "outputs": [],
   "source": [
    "import matplotlib.pyplot as baji\n",
    "import numpy as np\n",
    "\n",
    "# Generate values\n",
    "theta = np.linspace(0, 2 * np.pi, 100)  # angles from 0 to 2π\n",
    "r = 1  # radius\n",
    "\n",
    "# Parametric equations for a circle\n",
    "x = r * np.cos(theta)\n",
    "y = r * np.sin(theta)\n",
    "\n",
    "# Plotting the circle\n",
    "baji.figure(figsize=(6,6))\n",
    "baji.plot(x, y)\n",
    "baji.gca().set_aspect('equal')  # Ensures the aspect ratio makes the circle round\n",
    "baji.title(\"Circle using matplotlib\")\n",
    "baji.grid(True)\n",
    "baji.show()\n"
   ]
  },
  {
   "cell_type": "code",
   "execution_count": null,
   "id": "0d86df06-6fe7-459b-ac43-ff7ff517577e",
   "metadata": {},
   "outputs": [],
   "source": [
    "import matplotlib.pyplot as baji\n",
    "import numpy as np\n",
    "\n",
    "# Ask user to input area of the circle\n",
    "area = float(input(\"Enter the area of the circle: \"))\n",
    "\n",
    "# Calculate radius from area\n",
    "r = np.sqrt(area / np.pi)\n",
    "\n",
    "# Generate circle coordinates\n",
    "theta = np.linspace(0, 2 * np.pi, 100)\n",
    "x = r * np.cos(theta)\n",
    "y = r * np.sin(theta)\n",
    "\n",
    "# Plotting the circle\n",
    "baji.figure(figsize=(6, 6))\n",
    "baji.plot(x, y)\n",
    "baji.gca().set_aspect('equal')\n",
    "baji.title(f\"Circle with area {area:.2f} and radius {r:.2f}\")\n",
    "baji.grid(True)\n",
    "baji.show()\n"
   ]
  },
  {
   "cell_type": "code",
   "execution_count": null,
   "id": "b5056d90-bac1-4e88-ba20-efc6c9bf0fb8",
   "metadata": {},
   "outputs": [],
   "source": [
    "import matplotlib.pyplot as x\n",
    "import numpy as y\n",
    "a=y.array([1,3])\n",
    "b=y.array([4,8])\n",
    "x.plot(a,b,'o')\n"
   ]
  },
  {
   "cell_type": "code",
   "execution_count": null,
   "id": "542ddaff-ce9e-44a4-a634-c4c9ee3e8527",
   "metadata": {},
   "outputs": [],
   "source": [
    "a=y.array([1,3])\n",
    "b=y.array([4,8])\n",
    "x.plot(a,b,'o')"
   ]
  },
  {
   "cell_type": "code",
   "execution_count": null,
   "id": "4650e164-20d2-43e1-b545-3c0419b55ec3",
   "metadata": {},
   "outputs": [],
   "source": [
    "a=y.array([1,3,6,8,10,12])\n",
    "b=y.array([4,8,99,999,9999,9999])\n",
    "x.plot(a,b,)"
   ]
  },
  {
   "cell_type": "code",
   "execution_count": null,
   "id": "fd934b3d-16f2-406c-aa08-b10fea40a37e",
   "metadata": {},
   "outputs": [],
   "source": [
    "a=y.array([1,3,6,8,10,-12])\n",
    "b=y.array([4,8,99,999,9999,-9999])\n",
    "x.plot(a,b,)"
   ]
  },
  {
   "cell_type": "code",
   "execution_count": null,
   "id": "7ecc1ffc-3c9d-497f-9723-162cb897b6d0",
   "metadata": {},
   "outputs": [],
   "source": [
    "a=y.array([1,3,6,8,10,-12])\n",
    "b=y.array([4,8,99,999,9999,-9999])\n",
    "c=y.array([5432,82635,654996543,53624999,9999,-9999])\n",
    "d= y.array([5432,82635,65493,534999,91999,-9999])\n",
    "x.plot(a,b,c,d)"
   ]
  },
  {
   "cell_type": "code",
   "execution_count": null,
   "id": "470607bf-c116-48b9-93ec-48d72ddbb962",
   "metadata": {},
   "outputs": [],
   "source": [
    "a=y.array([1,3,6,8,10,-12])\n",
    "b=y.array([4,8,99,999,9999,-9999])\n",
    "c=y.array([5432,82,643,539,9999,-9999])\n",
    "x.plot(a,b,c)\n",
    "x.plot(c,b,a)\n",
    "x.plot(b,a,c)"
   ]
  },
  {
   "cell_type": "code",
   "execution_count": null,
   "id": "99f8d8e2-3de1-41ca-af4c-fb4e8517f9d9",
   "metadata": {},
   "outputs": [],
   "source": [
    "import matplotlib.pyplot as x\n",
    "import numpy as y\n",
    "a=y.array([1,3,6,8,10,-12])\n",
    "b=y.array([4,8,99,999,9999,-9999])\n",
    "c=y.array([5432,-82,643,539,9999,-9999])\n",
    "x.plot(a,b)\n",
    "x.plot(c,b)\n",
    "x.plot(a,c)\n",
    "x.show()"
   ]
  },
  {
   "cell_type": "code",
   "execution_count": null,
   "id": "e837074e-400d-4db8-8947-edd846c41f88",
   "metadata": {},
   "outputs": [],
   "source": [
    "import matplotlib.pyplot as x\n",
    "import numpy as y\n",
    "a=y.array([1,2,3,4,5])\n",
    "x.plot(a,marker='p',markersize=200)\n",
    "x.show()"
   ]
  },
  {
   "cell_type": "code",
   "execution_count": null,
   "id": "72221f6f-5fcd-4689-b497-c54b3c95360e",
   "metadata": {},
   "outputs": [],
   "source": [
    "import matplotlib.pyplot as plt\n",
    "\n",
    "x = [1, 2, 3, 4]\n",
    "y = [10, 20, 25, 30]\n",
    "\n",
    "plt.plot(x, y)\n",
    "plt.title(\"Basic Plot\")\n",
    "plt.xlabel(\"X-axis\")\n",
    "plt.ylabel(\"Y-axis\")\n",
    "plt.show()\n"
   ]
  },
  {
   "cell_type": "code",
   "execution_count": null,
   "id": "c9437598-8b9f-4ae5-acd2-21fad43e9930",
   "metadata": {},
   "outputs": [],
   "source": [
    "plt.plot(x, y, color='green', marker='o', linestyle='--')\n",
    "plt.title(\"Styled Plot\")\n",
    "plt.show()\n"
   ]
  },
  {
   "cell_type": "code",
   "execution_count": 3,
   "id": "1d22a072-6a97-43ef-af6e-7404fa6c2e82",
   "metadata": {},
   "outputs": [
    {
     "ename": "AttributeError",
     "evalue": "module 'matplotlib' has no attribute 'bar'",
     "output_type": "error",
     "traceback": [
      "\u001b[1;31m---------------------------------------------------------------------------\u001b[0m",
      "\u001b[1;31mAttributeError\u001b[0m                            Traceback (most recent call last)",
      "Cell \u001b[1;32mIn[3], line 4\u001b[0m\n\u001b[0;32m      1\u001b[0m categories \u001b[38;5;241m=\u001b[39m [\u001b[38;5;124m'\u001b[39m\u001b[38;5;124mA\u001b[39m\u001b[38;5;124m'\u001b[39m, \u001b[38;5;124m'\u001b[39m\u001b[38;5;124mB\u001b[39m\u001b[38;5;124m'\u001b[39m, \u001b[38;5;124m'\u001b[39m\u001b[38;5;124mC\u001b[39m\u001b[38;5;124m'\u001b[39m,\u001b[38;5;124m'\u001b[39m\u001b[38;5;124mD\u001b[39m\u001b[38;5;124m'\u001b[39m]\n\u001b[0;32m      2\u001b[0m values \u001b[38;5;241m=\u001b[39m [\u001b[38;5;241m10\u001b[39m, \u001b[38;5;241m20\u001b[39m, \u001b[38;5;241m15\u001b[39m,\u001b[38;5;241m30\u001b[39m]\n\u001b[1;32m----> 4\u001b[0m \u001b[43mplt\u001b[49m\u001b[38;5;241;43m.\u001b[39;49m\u001b[43mbar\u001b[49m(categories, values, color\u001b[38;5;241m=\u001b[39m\u001b[38;5;124m'\u001b[39m\u001b[38;5;124morange\u001b[39m\u001b[38;5;124m'\u001b[39m)\n\u001b[0;32m      5\u001b[0m plt\u001b[38;5;241m.\u001b[39mtitle(\u001b[38;5;124m\"\u001b[39m\u001b[38;5;124mBar Chart\u001b[39m\u001b[38;5;124m\"\u001b[39m)\n\u001b[0;32m      6\u001b[0m plt\u001b[38;5;241m.\u001b[39mshow()\n",
      "File \u001b[1;32m~\\AppData\\Local\\Packages\\PythonSoftwareFoundation.Python.3.10_qbz5n2kfra8p0\\LocalCache\\local-packages\\Python310\\site-packages\\matplotlib\\_api\\__init__.py:218\u001b[0m, in \u001b[0;36mcaching_module_getattr.<locals>.__getattr__\u001b[1;34m(name)\u001b[0m\n\u001b[0;32m    216\u001b[0m \u001b[38;5;28;01mif\u001b[39;00m name \u001b[38;5;129;01min\u001b[39;00m props:\n\u001b[0;32m    217\u001b[0m     \u001b[38;5;28;01mreturn\u001b[39;00m props[name]\u001b[38;5;241m.\u001b[39m\u001b[38;5;21m__get__\u001b[39m(instance)\n\u001b[1;32m--> 218\u001b[0m \u001b[38;5;28;01mraise\u001b[39;00m \u001b[38;5;167;01mAttributeError\u001b[39;00m(\n\u001b[0;32m    219\u001b[0m     \u001b[38;5;124mf\u001b[39m\u001b[38;5;124m\"\u001b[39m\u001b[38;5;124mmodule \u001b[39m\u001b[38;5;132;01m{\u001b[39;00m\u001b[38;5;28mcls\u001b[39m\u001b[38;5;241m.\u001b[39m\u001b[38;5;18m__module__\u001b[39m\u001b[38;5;132;01m!r}\u001b[39;00m\u001b[38;5;124m has no attribute \u001b[39m\u001b[38;5;132;01m{\u001b[39;00mname\u001b[38;5;132;01m!r}\u001b[39;00m\u001b[38;5;124m\"\u001b[39m)\n",
      "\u001b[1;31mAttributeError\u001b[0m: module 'matplotlib' has no attribute 'bar'"
     ]
    }
   ],
   "source": [
    "categories = ['A', 'B', 'C','D']\n",
    "values = [10, 20, 15,30]\n",
    "\n",
    "plt.bar(categories, values, color='orange')\n",
    "plt.title(\"Bar Chart\")\n",
    "plt.show()\n"
   ]
  },
  {
   "cell_type": "code",
   "execution_count": null,
   "id": "2e8a58cc-a5a3-4b8f-bb0d-063ff9eb8e36",
   "metadata": {},
   "outputs": [],
   "source": []
  },
  {
   "cell_type": "code",
   "execution_count": null,
   "id": "063efe4a-48f4-4e7b-8162-99a5a402e421",
   "metadata": {},
   "outputs": [],
   "source": [
    "plt.barh(categories, values, color='blue')\n",
    "plt.title(\"Horizontal Bar Chart\")\n",
    "plt.show()\n"
   ]
  },
  {
   "cell_type": "code",
   "execution_count": 2,
   "id": "30860cf3-a21c-42d2-b8cd-bcf130aef340",
   "metadata": {},
   "outputs": [
    {
     "ename": "AttributeError",
     "evalue": "module 'matplotlib' has no attribute 'pie'",
     "output_type": "error",
     "traceback": [
      "\u001b[1;31m---------------------------------------------------------------------------\u001b[0m",
      "\u001b[1;31mAttributeError\u001b[0m                            Traceback (most recent call last)",
      "Cell \u001b[1;32mIn[2], line 4\u001b[0m\n\u001b[0;32m      1\u001b[0m slices \u001b[38;5;241m=\u001b[39m [\u001b[38;5;241m40\u001b[39m, \u001b[38;5;241m30\u001b[39m, \u001b[38;5;241m20\u001b[39m, \u001b[38;5;241m10\u001b[39m]\n\u001b[0;32m      2\u001b[0m labels \u001b[38;5;241m=\u001b[39m [\u001b[38;5;124m'\u001b[39m\u001b[38;5;124mA\u001b[39m\u001b[38;5;124m'\u001b[39m, \u001b[38;5;124m'\u001b[39m\u001b[38;5;124mB\u001b[39m\u001b[38;5;124m'\u001b[39m, \u001b[38;5;124m'\u001b[39m\u001b[38;5;124mC\u001b[39m\u001b[38;5;124m'\u001b[39m, \u001b[38;5;124m'\u001b[39m\u001b[38;5;124mD\u001b[39m\u001b[38;5;124m'\u001b[39m]\n\u001b[1;32m----> 4\u001b[0m \u001b[43mplt\u001b[49m\u001b[38;5;241;43m.\u001b[39;49m\u001b[43mpie\u001b[49m(slices, labels\u001b[38;5;241m=\u001b[39mlabels, autopct\u001b[38;5;241m=\u001b[39m\u001b[38;5;124m'\u001b[39m\u001b[38;5;132;01m%1.1f\u001b[39;00m\u001b[38;5;132;01m%%\u001b[39;00m\u001b[38;5;124m'\u001b[39m, startangle\u001b[38;5;241m=\u001b[39m\u001b[38;5;241m90\u001b[39m)\n\u001b[0;32m      5\u001b[0m plt\u001b[38;5;241m.\u001b[39mtitle(\u001b[38;5;124m\"\u001b[39m\u001b[38;5;124mPie Chart\u001b[39m\u001b[38;5;124m\"\u001b[39m)\n\u001b[0;32m      6\u001b[0m plt\u001b[38;5;241m.\u001b[39mshow()\n",
      "File \u001b[1;32m~\\AppData\\Local\\Packages\\PythonSoftwareFoundation.Python.3.10_qbz5n2kfra8p0\\LocalCache\\local-packages\\Python310\\site-packages\\matplotlib\\_api\\__init__.py:218\u001b[0m, in \u001b[0;36mcaching_module_getattr.<locals>.__getattr__\u001b[1;34m(name)\u001b[0m\n\u001b[0;32m    216\u001b[0m \u001b[38;5;28;01mif\u001b[39;00m name \u001b[38;5;129;01min\u001b[39;00m props:\n\u001b[0;32m    217\u001b[0m     \u001b[38;5;28;01mreturn\u001b[39;00m props[name]\u001b[38;5;241m.\u001b[39m\u001b[38;5;21m__get__\u001b[39m(instance)\n\u001b[1;32m--> 218\u001b[0m \u001b[38;5;28;01mraise\u001b[39;00m \u001b[38;5;167;01mAttributeError\u001b[39;00m(\n\u001b[0;32m    219\u001b[0m     \u001b[38;5;124mf\u001b[39m\u001b[38;5;124m\"\u001b[39m\u001b[38;5;124mmodule \u001b[39m\u001b[38;5;132;01m{\u001b[39;00m\u001b[38;5;28mcls\u001b[39m\u001b[38;5;241m.\u001b[39m\u001b[38;5;18m__module__\u001b[39m\u001b[38;5;132;01m!r}\u001b[39;00m\u001b[38;5;124m has no attribute \u001b[39m\u001b[38;5;132;01m{\u001b[39;00mname\u001b[38;5;132;01m!r}\u001b[39;00m\u001b[38;5;124m\"\u001b[39m)\n",
      "\u001b[1;31mAttributeError\u001b[0m: module 'matplotlib' has no attribute 'pie'"
     ]
    }
   ],
   "source": [
    "slices = [40, 30, 20, 10]\n",
    "labels = ['A', 'B', 'C', 'D']\n",
    "\n",
    "plt.pie(slices, labels=labels, autopct='%1.1f%%', startangle=90)\n",
    "plt.title(\"Pie Chart\")\n",
    "plt.show()\n"
   ]
  },
  {
   "cell_type": "code",
   "execution_count": null,
   "id": "f344cfb6-6c90-4674-b0fe-7045af4ac7e3",
   "metadata": {},
   "outputs": [],
   "source": []
  }
 ],
 "metadata": {
  "kernelspec": {
   "display_name": "Python 3 (ipykernel)",
   "language": "python",
   "name": "python3"
  },
  "language_info": {
   "codemirror_mode": {
    "name": "ipython",
    "version": 3
   },
   "file_extension": ".py",
   "mimetype": "text/x-python",
   "name": "python",
   "nbconvert_exporter": "python",
   "pygments_lexer": "ipython3",
   "version": "3.10.11"
  }
 },
 "nbformat": 4,
 "nbformat_minor": 5
}
